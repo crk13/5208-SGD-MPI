{
 "cells": [
  {
   "cell_type": "code",
   "execution_count": 1,
   "id": "affc856a",
   "metadata": {},
   "outputs": [],
   "source": [
    "import pandas as pd\n",
    "import numpy as np\n",
    "import matplotlib.pyplot as plt"
   ]
  },
  {
   "cell_type": "code",
   "execution_count": 2,
   "id": "cbc3a61e",
   "metadata": {},
   "outputs": [
    {
     "name": "stdout",
     "output_type": "stream",
     "text": [
      "(39656098, 10)\n"
     ]
    }
   ],
   "source": [
    "df = pd.read_csv('../data/raw/nytaxi2022.csv', usecols=[\n",
    "     \"tpep_pickup_datetime\", \"tpep_dropoff_datetime\", \"passenger_count\", \"trip_distance\", \n",
    "     \"RatecodeID\", \"PULocationID\", \"DOLocationID\", \"payment_type\", \n",
    "     \"extra\", \"total_amount\"])\n",
    "print(df.shape)\n",
    "# df.head()"
   ]
  },
  {
   "cell_type": "markdown",
   "id": "0d271f44",
   "metadata": {},
   "source": [
    "## condition 1"
   ]
  },
  {
   "cell_type": "code",
   "execution_count": 3,
   "id": "977f73b1",
   "metadata": {},
   "outputs": [],
   "source": [
    "# improvements\n",
    "\n",
    "# locationid = (\n",
    "#     df['PULocationID'].between(1, 265) &\n",
    "#     df['DOLocationID'].between(1, 265))\n",
    "# df = df[locationid] 写法 \n",
    "# 比\n",
    "# df = df[df['PULocationID'].between(1, 265)] 会创建一个新的 DataFrame 副本，把原 df 中符合条件的行复制出来，然后再赋值给 df。\n",
    "# df = df[df['DOLocationID'].between(1, 265)] 又复制一次。在这个过程中，旧的df副本可能还没有被垃圾回收释放掉，于是内存里就同时存在两个大副本+原始 df，对几千万行的数据来说，很容易Kernel Crash\n",
    "# 写法要好，但还是有复制\n",
    "\n",
    "# 用drop或者query不会复制，但是query好像写不了判断整数 "
   ]
  },
  {
   "cell_type": "code",
   "execution_count": 4,
   "id": "48699239",
   "metadata": {},
   "outputs": [
    {
     "data": {
      "text/plain": [
       "(36708331, 10)"
      ]
     },
     "execution_count": 4,
     "metadata": {},
     "output_type": "execute_result"
    }
   ],
   "source": [
    "# df = df.drop_duplicates()\n",
    "df = df.dropna()\n",
    "\n",
    "condition1 = (\n",
    "    (df['passenger_count'] > 0) & (df['passenger_count'] <= 6) &\n",
    "    (df['trip_distance'] > 0) & \n",
    "    (df['RatecodeID'] < 6) & (df['RatecodeID'] % 1 == 0) &        # (df['RatecodeID'] == 6).sum() output 111\n",
    "    df['PULocationID'].between(1, 265) & (df['PULocationID'] % 1 == 0) &\n",
    "    df['DOLocationID'].between(1, 265) & (df['DOLocationID'] % 1 == 0) &\n",
    "    (df['extra'] >= 0) & (df['extra'] < 20) &\n",
    "    (df[\"total_amount\"] > 0) & (df[\"total_amount\"] < 1000)\n",
    ")\n",
    "\n",
    "df.drop(df[~condition1].index, inplace=True)\n",
    "\n",
    "df.shape"
   ]
  },
  {
   "cell_type": "markdown",
   "id": "20a3e839",
   "metadata": {},
   "source": [
    "## condition 2 (time)"
   ]
  },
  {
   "cell_type": "code",
   "execution_count": 5,
   "id": "4d2645ad",
   "metadata": {},
   "outputs": [
    {
     "name": "stdout",
     "output_type": "stream",
     "text": [
      "tpep_pickup_datetime\n",
      "2001           6\n",
      "2002         355\n",
      "2003           7\n",
      "2008          33\n",
      "2009          36\n",
      "2021          23\n",
      "2022    36707865\n",
      "2023           6\n",
      "Name: count, dtype: int64\n"
     ]
    }
   ],
   "source": [
    "# %H → 24h %I → 12h\n",
    "df['tpep_pickup_datetime'] = pd.to_datetime(df[\"tpep_pickup_datetime\"], format = \"%m/%d/%Y %I:%M:%S %p\", errors='coerce')\n",
    "df['tpep_dropoff_datetime'] = pd.to_datetime(df[\"tpep_dropoff_datetime\"], format = \"%m/%d/%Y %I:%M:%S %p\", errors='coerce')\n",
    "df = df.dropna(subset=['tpep_pickup_datetime', 'tpep_dropoff_datetime'])\n",
    "\n",
    "year_counts = df['tpep_pickup_datetime'].dt.year.value_counts().sort_index()\n",
    "print(year_counts)"
   ]
  },
  {
   "cell_type": "code",
   "execution_count": 6,
   "id": "e9fe9498",
   "metadata": {},
   "outputs": [
    {
     "data": {
      "text/plain": [
       "(36651998, 11)"
      ]
     },
     "execution_count": 6,
     "metadata": {},
     "output_type": "execute_result"
    }
   ],
   "source": [
    "df['trip_dur_min'] = (\n",
    "    (df['tpep_dropoff_datetime'] - df['tpep_pickup_datetime']).dt.total_seconds() / 60.0\n",
    ").astype('float32')\n",
    "\n",
    "pickup_year = df['tpep_pickup_datetime'].dt.year\n",
    "dropoff_year = df['tpep_dropoff_datetime'].dt.year\n",
    "\n",
    "condition2 = (\n",
    "    (pickup_year == 2022) & (dropoff_year == 2022) &\n",
    "    (df['trip_dur_min'] > 0) & (df['trip_dur_min'] < 120)\n",
    ")\n",
    "df.drop(df[~condition2].index, inplace=True)\n",
    "\n",
    "df.shape"
   ]
  },
  {
   "cell_type": "code",
   "execution_count": 7,
   "id": "12727e3f",
   "metadata": {},
   "outputs": [],
   "source": [
    "# Unix\n",
    "# arr_pick = df['tpep_pickup_datetime'].to_numpy(dtype='datetime64[ns]').view('i8')\n",
    "# arr_drop = df['tpep_dropoff_datetime'].to_numpy(dtype='datetime64[ns]').view('i8')\n",
    "# df['pickup_ts'] = (arr_pick // 10**9).astype('int64')\n",
    "# df['dropoff_ts'] = (arr_drop // 10**9).astype('int64')\n",
    "# df = df.drop(columns=['tpep_pickup_datetime', 'tpep_dropoff_datetime'])\n",
    "# df.shape"
   ]
  },
  {
   "cell_type": "code",
   "execution_count": 8,
   "id": "60788600",
   "metadata": {},
   "outputs": [
    {
     "data": {
      "text/plain": [
       "(36651998, 17)"
      ]
     },
     "execution_count": 8,
     "metadata": {},
     "output_type": "execute_result"
    }
   ],
   "source": [
    "# subtract periodic characteristics（hour-of-day / day-of-week）\n",
    "hours = df['tpep_pickup_datetime'].dt.hour\n",
    "days  = df['tpep_pickup_datetime'].dt.dayofweek\n",
    "\n",
    "df['month'] = df['tpep_pickup_datetime'].dt.month\n",
    "\n",
    "df['is_weekend'] = (days >= 5).astype(int)\n",
    "df['hour_sin'] = (np.sin(2 * np.pi * hours / 24) + 1) / 2\n",
    "df['hour_cos'] = (np.cos(2 * np.pi * hours / 24) + 1) / 2\n",
    "df['day_sin']  = (np.sin(2 * np.pi * days / 7) + 1) / 2\n",
    "df['day_cos']  = (np.cos(2 * np.pi * days / 7) + 1) / 2\n",
    "\n",
    "\n",
    "df.shape"
   ]
  },
  {
   "cell_type": "markdown",
   "id": "eeeca45a",
   "metadata": {},
   "source": [
    "### draw plots"
   ]
  },
  {
   "cell_type": "code",
   "execution_count": 9,
   "id": "ce362593",
   "metadata": {},
   "outputs": [],
   "source": [
    "# df['pickup_date'] = df['tpep_pickup_datetime'].dt.date\n",
    "# df['dropoff_date'] = df['tpep_dropoff_datetime'].dt.date\n",
    "\n",
    "# pickup_counts = df['pickup_date'].value_counts().sort_index()\n",
    "# dropoff_counts = df['dropoff_date'].value_counts().sort_index()\n",
    "\n",
    "# plt.figure(figsize=(12,5))\n",
    "# plt.plot(pickup_counts.index, pickup_counts.values, label='Pickup')\n",
    "# plt.plot(dropoff_counts.index, dropoff_counts.values, label='Dropoff')\n",
    "# plt.xlabel('Date')\n",
    "# plt.ylabel('Number of trips')\n",
    "# plt.title('Daily trip counts')\n",
    "# plt.xticks(rotation=45)\n",
    "# plt.legend()\n",
    "# plt.tight_layout()\n",
    "# plt.show()\n",
    "\n",
    "# df = df.drop(columns=['pickup_date', 'dropoff_date'])"
   ]
  },
  {
   "cell_type": "code",
   "execution_count": 10,
   "id": "826bf4ee",
   "metadata": {},
   "outputs": [],
   "source": [
    "# plt.figure(figsize=(10,5))\n",
    "# plt.hist(df['trip_dur_min'], bins=200, range=(0, 240), color='skyblue')\n",
    "# plt.xlabel(\"Trip duration (min)\")\n",
    "# plt.ylabel(\"Frequency\")\n",
    "# plt.title(\"Trip Duration Distribution\")\n",
    "# plt.legend()\n",
    "# plt.show()"
   ]
  },
  {
   "cell_type": "markdown",
   "id": "8034f9e4",
   "metadata": {},
   "source": [
    "### delete former data columns"
   ]
  },
  {
   "cell_type": "code",
   "execution_count": 11,
   "id": "062f5b6e",
   "metadata": {},
   "outputs": [
    {
     "data": {
      "text/plain": [
       "(36651998, 15)"
      ]
     },
     "execution_count": 11,
     "metadata": {},
     "output_type": "execute_result"
    }
   ],
   "source": [
    "df.drop(columns=['tpep_pickup_datetime', 'tpep_dropoff_datetime'], inplace=True, errors='ignore')\n",
    "df.shape"
   ]
  },
  {
   "cell_type": "markdown",
   "id": "7e6a83e0",
   "metadata": {},
   "source": [
    "## condition 3"
   ]
  },
  {
   "cell_type": "code",
   "execution_count": 12,
   "id": "b368fea9",
   "metadata": {},
   "outputs": [],
   "source": [
    "# cols_to_check = [\"passenger_count\", 'trip_dur_min', 'pickup_ts', 'dropoff_ts', \"trip_distance\", \"RatecodeID\", \"payment_type\", \"extra\", \"total_amount\"]\n",
    "\n",
    "# df[cols_to_check].plot(kind='box', subplots=True, layout=(3,3), figsize=(12,8))\n",
    "# plt.tight_layout()\n",
    "# plt.show()"
   ]
  },
  {
   "cell_type": "code",
   "execution_count": 13,
   "id": "683eba75",
   "metadata": {},
   "outputs": [
    {
     "name": "stdout",
     "output_type": "stream",
     "text": [
      "trip_dur_min: upper=332.12, will through away 0 extreme large values\n",
      "trip_distance: upper=70.30, will through away 840 extreme large values\n",
      "total_amount: upper=304.16, will through away 1209 extreme large values\n",
      "extra: upper=52.50, will through away 0 extreme large values\n"
     ]
    }
   ],
   "source": [
    "cols_to_check = ['trip_dur_min', \"trip_distance\", \"total_amount\", \"extra\"]\n",
    "\n",
    "for col in cols_to_check:\n",
    "    Q1 = df[col].quantile(0.2)\n",
    "    Q3 = df[col].quantile(0.8)\n",
    "    IQR = Q3 - Q1\n",
    "    upper = Q3 + 20 * IQR   \n",
    "\n",
    "    outlier_idx = df.index[df[col] > upper]   \n",
    "    print(f\"{col}: upper={upper:.2f}, will through away {len(outlier_idx)} extreme large values\")\n",
    "    df.drop(index=outlier_idx, inplace=True)\n"
   ]
  },
  {
   "cell_type": "code",
   "execution_count": 14,
   "id": "3c2ef484",
   "metadata": {},
   "outputs": [
    {
     "name": "stdout",
     "output_type": "stream",
     "text": [
      "trip_dur_min: upper=72.65, will through away 183196 extreme large values\n",
      "trip_distance: upper=21.30, will through away 182224 extreme large values\n",
      "total_amount: upper=82.55, will through away 181065 extreme large values\n",
      "extra: upper=4.50, will through away 156596 extreme large values\n"
     ]
    },
    {
     "data": {
      "text/plain": [
       "(35946868, 15)"
      ]
     },
     "execution_count": 14,
     "metadata": {},
     "output_type": "execute_result"
    }
   ],
   "source": [
    "cols_to_check = ['trip_dur_min', \"trip_distance\", \"total_amount\", \"extra\"]\n",
    "\n",
    "for col in cols_to_check:\n",
    "    upper = df[col].quantile(0.995)  \n",
    "    outlier_idx = df.index[df[col] > upper]\n",
    "\n",
    "    print(f\"{col}: upper={upper:.2f}, will through away {len(outlier_idx)} extreme large values\")\n",
    "    df.drop(index=outlier_idx, inplace=True)\n",
    "\n",
    "df.shape"
   ]
  },
  {
   "cell_type": "code",
   "execution_count": 15,
   "id": "f746e747",
   "metadata": {},
   "outputs": [],
   "source": [
    "# cols_to_check = ['trip_dur_min', \"trip_distance\", \"total_amount\"]\n",
    "\n",
    "# df[cols_to_check].plot(kind='box', subplots=True, layout=(1,3), figsize=(6,2))\n",
    "# plt.tight_layout()\n",
    "# plt.show()"
   ]
  },
  {
   "cell_type": "code",
   "execution_count": 16,
   "id": "c61097ee",
   "metadata": {},
   "outputs": [
    {
     "data": {
      "image/png": "[encoded data removed]",
      "text/plain": [
       "<Figure size 1000x500 with 1 Axes>"
      ]
     },
     "metadata": {},
     "output_type": "display_data"
    },
    {
     "data": {
      "image/png": "[encoded data removed]",
      "text/plain": [
       "<Figure size 600x400 with 1 Axes>"
      ]
     },
     "metadata": {},
     "output_type": "display_data"
    }
   ],
   "source": [
    "# Histogram\n",
    "plt.figure(figsize=(10,5))\n",
    "plt.hist(df['trip_dur_min'], bins=100)\n",
    "plt.xlabel('Trip Duration (minutes)')\n",
    "plt.ylabel('Count')\n",
    "plt.title('Trip Duration Distribution')\n",
    "plt.show()\n",
    "\n",
    "# Box plot\n",
    "plt.figure(figsize=(6,4))\n",
    "plt.boxplot(df['trip_dur_min'], vert=False)\n",
    "plt.xlabel('Trip Duration (minutes)')\n",
    "plt.title('Trip Duration Boxplot')\n",
    "plt.show()"
   ]
  },
  {
   "cell_type": "markdown",
   "id": "58b24f50",
   "metadata": {},
   "source": [
    "## one-hot & normalize"
   ]
  },
  {
   "cell_type": "code",
   "execution_count": 17,
   "id": "b89d7050",
   "metadata": {},
   "outputs": [
    {
     "data": {
      "text/plain": [
       "(35946868, 22)"
      ]
     },
     "execution_count": 17,
     "metadata": {},
     "output_type": "execute_result"
    }
   ],
   "source": [
    "from pandas.api.types import CategoricalDtype\n",
    "\n",
    "df['RatecodeID'] = df['RatecodeID'].astype(CategoricalDtype(categories=[1,2,3,4,5], ordered=False))\n",
    "df['payment_type'] = df['payment_type'].astype(CategoricalDtype(categories=[1,2,3,4], ordered=False))\n",
    "\n",
    "df = pd.get_dummies(df,\n",
    "                    columns=['RatecodeID', 'payment_type'], \n",
    "                    prefix=['Ratecode', 'paytype'],\n",
    "                    dummy_na=False)\n",
    "df.shape"
   ]
  },
  {
   "cell_type": "code",
   "execution_count": 18,
   "id": "0caee07b",
   "metadata": {},
   "outputs": [],
   "source": [
    "num_cols = ['passenger_count','trip_distance','extra','month', 'trip_dur_min','PULocationID','DOLocationID']\n",
    "for col in num_cols:\n",
    "    col_min = df[col].min()\n",
    "    col_max = df[col].max()\n",
    "    if col_max > col_min:\n",
    "        df[col] = (df[col] - col_min) / (col_max - col_min)"
   ]
  },
  {
   "cell_type": "markdown",
   "id": "81b23124",
   "metadata": {},
   "source": [
    "## move total_amount to the last column"
   ]
  },
  {
   "cell_type": "code",
   "execution_count": 19,
   "id": "b569dfff",
   "metadata": {},
   "outputs": [],
   "source": [
    "cols = [c for c in df.columns if c != \"total_amount\"] + [\"total_amount\"]\n",
    "df = df[cols]"
   ]
  },
  {
   "cell_type": "code",
   "execution_count": 20,
   "id": "3dc835d8",
   "metadata": {},
   "outputs": [
    {
     "data": {
      "text/html": [
       "<div>\n",
       "<style scoped>\n",
       "    .dataframe tbody tr th:only-of-type {\n",
       "        vertical-align: middle;\n",
       "    }\n",
       "\n",
       "    .dataframe tbody tr th {\n",
       "        vertical-align: top;\n",
       "    }\n",
       "\n",
       "    .dataframe thead th {\n",
       "        text-align: right;\n",
       "    }\n",
       "</style>\n",
       "<table border=\"1\" class=\"dataframe\">\n",
       "  <thead>\n",
       "    <tr style=\"text-align: right;\">\n",
       "      <th></th>\n",
       "      <th>passenger_count</th>\n",
       "      <th>trip_distance</th>\n",
       "      <th>PULocationID</th>\n",
       "      <th>DOLocationID</th>\n",
       "      <th>extra</th>\n",
       "      <th>trip_dur_min</th>\n",
       "      <th>month</th>\n",
       "      <th>is_weekend</th>\n",
       "      <th>hour_sin</th>\n",
       "      <th>hour_cos</th>\n",
       "      <th>...</th>\n",
       "      <th>Ratecode_1</th>\n",
       "      <th>Ratecode_2</th>\n",
       "      <th>Ratecode_3</th>\n",
       "      <th>Ratecode_4</th>\n",
       "      <th>Ratecode_5</th>\n",
       "      <th>paytype_1</th>\n",
       "      <th>paytype_2</th>\n",
       "      <th>paytype_3</th>\n",
       "      <th>paytype_4</th>\n",
       "      <th>total_amount</th>\n",
       "    </tr>\n",
       "  </thead>\n",
       "  <tbody>\n",
       "    <tr>\n",
       "      <th>0</th>\n",
       "      <td>0.2</td>\n",
       "      <td>0.178018</td>\n",
       "      <td>0.534091</td>\n",
       "      <td>0.890152</td>\n",
       "      <td>0.666667</td>\n",
       "      <td>0.245067</td>\n",
       "      <td>0.0</td>\n",
       "      <td>1</td>\n",
       "      <td>0.5</td>\n",
       "      <td>1.0</td>\n",
       "      <td>...</td>\n",
       "      <td>True</td>\n",
       "      <td>False</td>\n",
       "      <td>False</td>\n",
       "      <td>False</td>\n",
       "      <td>False</td>\n",
       "      <td>True</td>\n",
       "      <td>False</td>\n",
       "      <td>False</td>\n",
       "      <td>False</td>\n",
       "      <td>21.95</td>\n",
       "    </tr>\n",
       "    <tr>\n",
       "      <th>1</th>\n",
       "      <td>0.0</td>\n",
       "      <td>0.098168</td>\n",
       "      <td>0.890152</td>\n",
       "      <td>0.155303</td>\n",
       "      <td>0.111111</td>\n",
       "      <td>0.115420</td>\n",
       "      <td>0.0</td>\n",
       "      <td>1</td>\n",
       "      <td>0.5</td>\n",
       "      <td>1.0</td>\n",
       "      <td>...</td>\n",
       "      <td>True</td>\n",
       "      <td>False</td>\n",
       "      <td>False</td>\n",
       "      <td>False</td>\n",
       "      <td>False</td>\n",
       "      <td>True</td>\n",
       "      <td>False</td>\n",
       "      <td>False</td>\n",
       "      <td>False</td>\n",
       "      <td>13.30</td>\n",
       "    </tr>\n",
       "    <tr>\n",
       "      <th>2</th>\n",
       "      <td>0.0</td>\n",
       "      <td>0.045092</td>\n",
       "      <td>0.625000</td>\n",
       "      <td>0.625000</td>\n",
       "      <td>0.111111</td>\n",
       "      <td>0.123222</td>\n",
       "      <td>0.0</td>\n",
       "      <td>1</td>\n",
       "      <td>0.5</td>\n",
       "      <td>1.0</td>\n",
       "      <td>...</td>\n",
       "      <td>True</td>\n",
       "      <td>False</td>\n",
       "      <td>False</td>\n",
       "      <td>False</td>\n",
       "      <td>False</td>\n",
       "      <td>True</td>\n",
       "      <td>False</td>\n",
       "      <td>False</td>\n",
       "      <td>False</td>\n",
       "      <td>10.56</td>\n",
       "    </tr>\n",
       "    <tr>\n",
       "      <th>3</th>\n",
       "      <td>0.0</td>\n",
       "      <td>0.050728</td>\n",
       "      <td>0.428030</td>\n",
       "      <td>0.253788</td>\n",
       "      <td>0.111111</td>\n",
       "      <td>0.137907</td>\n",
       "      <td>0.0</td>\n",
       "      <td>1</td>\n",
       "      <td>0.5</td>\n",
       "      <td>1.0</td>\n",
       "      <td>...</td>\n",
       "      <td>True</td>\n",
       "      <td>False</td>\n",
       "      <td>False</td>\n",
       "      <td>False</td>\n",
       "      <td>False</td>\n",
       "      <td>False</td>\n",
       "      <td>True</td>\n",
       "      <td>False</td>\n",
       "      <td>False</td>\n",
       "      <td>11.80</td>\n",
       "    </tr>\n",
       "    <tr>\n",
       "      <th>4</th>\n",
       "      <td>0.0</td>\n",
       "      <td>0.201503</td>\n",
       "      <td>0.253788</td>\n",
       "      <td>0.613636</td>\n",
       "      <td>0.111111</td>\n",
       "      <td>0.516521</td>\n",
       "      <td>0.0</td>\n",
       "      <td>1</td>\n",
       "      <td>0.5</td>\n",
       "      <td>1.0</td>\n",
       "      <td>...</td>\n",
       "      <td>True</td>\n",
       "      <td>False</td>\n",
       "      <td>False</td>\n",
       "      <td>False</td>\n",
       "      <td>False</td>\n",
       "      <td>True</td>\n",
       "      <td>False</td>\n",
       "      <td>False</td>\n",
       "      <td>False</td>\n",
       "      <td>30.30</td>\n",
       "    </tr>\n",
       "  </tbody>\n",
       "</table>\n",
       "<p>5 rows × 22 columns</p>\n",
       "</div>"
      ],
      "text/plain": [
       "   passenger_count  trip_distance  PULocationID  DOLocationID     extra  \\\n",
       "0              0.2       0.178018      0.534091      0.890152  0.666667   \n",
       "1              0.0       0.098168      0.890152      0.155303  0.111111   \n",
       "2              0.0       0.045092      0.625000      0.625000  0.111111   \n",
       "3              0.0       0.050728      0.428030      0.253788  0.111111   \n",
       "4              0.0       0.201503      0.253788      0.613636  0.111111   \n",
       "\n",
       "   trip_dur_min  month  is_weekend  hour_sin  hour_cos  ...  Ratecode_1  \\\n",
       "0      0.245067    0.0           1       0.5       1.0  ...        True   \n",
       "1      0.115420    0.0           1       0.5       1.0  ...        True   \n",
       "2      0.123222    0.0           1       0.5       1.0  ...        True   \n",
       "3      0.137907    0.0           1       0.5       1.0  ...        True   \n",
       "4      0.516521    0.0           1       0.5       1.0  ...        True   \n",
       "\n",
       "   Ratecode_2  Ratecode_3  Ratecode_4  Ratecode_5  paytype_1  paytype_2  \\\n",
       "0       False       False       False       False       True      False   \n",
       "1       False       False       False       False       True      False   \n",
       "2       False       False       False       False       True      False   \n",
       "3       False       False       False       False      False       True   \n",
       "4       False       False       False       False       True      False   \n",
       "\n",
       "   paytype_3  paytype_4  total_amount  \n",
       "0      False      False         21.95  \n",
       "1      False      False         13.30  \n",
       "2      False      False         10.56  \n",
       "3      False      False         11.80  \n",
       "4      False      False         30.30  \n",
       "\n",
       "[5 rows x 22 columns]"
      ]
     },
     "execution_count": 20,
     "metadata": {},
     "output_type": "execute_result"
    }
   ],
   "source": [
    "df.head()"
   ]
  },
  {
   "cell_type": "markdown",
   "id": "5ea72e67",
   "metadata": {},
   "source": [
    "## save as .parquet"
   ]
  },
  {
   "cell_type": "code",
   "execution_count": 21,
   "id": "1840fd8e",
   "metadata": {},
   "outputs": [
    {
     "name": "stdout",
     "output_type": "stream",
     "text": [
      "Saved to ../data/processed/datanew995.parquet\n"
     ]
    }
   ],
   "source": [
    "import os\n",
    "\n",
    "os.makedirs(\"../data/processed\", exist_ok=True)\n",
    "\n",
    "# 保存为 parquet\n",
    "df.to_parquet(\"../data/processed/datanew995.parquet\", index=False)\n",
    "print(\"Saved to ../data/processed/datanew995.parquet\")\n",
    "\n"
   ]
  },
  {
   "cell_type": "markdown",
   "id": "a195ca82",
   "metadata": {},
   "source": [
    "## check"
   ]
  },
  {
   "cell_type": "code",
   "execution_count": 22,
   "id": "ff00f327",
   "metadata": {},
   "outputs": [
    {
     "name": "stdout",
     "output_type": "stream",
     "text": [
      "Number of row groups: 35\n",
      "Row Group 0: 1048576 rows, 9.00 MB\n",
      "Row Group 1: 1048576 rows, 9.03 MB\n",
      "Row Group 2: 1048576 rows, 9.11 MB\n",
      "Row Group 3: 1048576 rows, 9.10 MB\n",
      "Row Group 4: 1048576 rows, 9.10 MB\n",
      "Row Group 5: 1048576 rows, 9.09 MB\n",
      "Row Group 6: 1048576 rows, 9.10 MB\n",
      "Row Group 7: 1048576 rows, 9.09 MB\n",
      "Row Group 8: 1048576 rows, 9.09 MB\n",
      "Row Group 9: 1048576 rows, 9.10 MB\n",
      "Row Group 10: 1048576 rows, 9.11 MB\n",
      "Row Group 11: 1048576 rows, 9.09 MB\n",
      "Row Group 12: 1048576 rows, 9.09 MB\n",
      "Row Group 13: 1048576 rows, 9.09 MB\n",
      "Row Group 14: 1048576 rows, 9.09 MB\n",
      "Row Group 15: 1048576 rows, 9.09 MB\n",
      "Row Group 16: 1048576 rows, 9.09 MB\n",
      "Row Group 17: 1048576 rows, 9.10 MB\n",
      "Row Group 18: 1048576 rows, 9.08 MB\n",
      "Row Group 19: 1048576 rows, 9.08 MB\n",
      "Row Group 20: 1048576 rows, 9.06 MB\n",
      "Row Group 21: 1048576 rows, 9.08 MB\n",
      "Row Group 22: 1048576 rows, 9.21 MB\n",
      "Row Group 23: 1048576 rows, 9.07 MB\n",
      "Row Group 24: 1048576 rows, 9.07 MB\n",
      "Row Group 25: 1048576 rows, 9.06 MB\n",
      "Row Group 26: 1048576 rows, 9.07 MB\n",
      "Row Group 27: 1048576 rows, 9.05 MB\n",
      "Row Group 28: 1048576 rows, 9.05 MB\n",
      "Row Group 29: 1048576 rows, 9.06 MB\n",
      "Row Group 30: 1048576 rows, 8.88 MB\n",
      "Row Group 31: 1048576 rows, 9.06 MB\n",
      "Row Group 32: 1048576 rows, 9.01 MB\n",
      "Row Group 33: 1048576 rows, 8.96 MB\n",
      "Row Group 34: 295284 rows, 2.54 MB\n"
     ]
    }
   ],
   "source": [
    "import pyarrow.parquet as pq\n",
    "\n",
    "# 读 parquet 文件的元信息\n",
    "parquet_file = pq.ParquetFile(\"../data/processed/datanew995.parquet\")\n",
    "\n",
    "print(\"Number of row groups:\", parquet_file.num_row_groups)\n",
    "\n",
    "# 查看每个 row group 的大小和行数\n",
    "for i in range(parquet_file.num_row_groups):\n",
    "    rg_meta = parquet_file.metadata.row_group(i)\n",
    "    print(f\"Row Group {i}: {rg_meta.num_rows} rows, {rg_meta.total_byte_size/1024/1024:.2f} MB\")\n"
   ]
  },
  {
   "cell_type": "code",
   "execution_count": 23,
   "id": "9d009986",
   "metadata": {},
   "outputs": [
    {
     "data": {
      "text/html": [
       "<div>\n",
       "<style scoped>\n",
       "    .dataframe tbody tr th:only-of-type {\n",
       "        vertical-align: middle;\n",
       "    }\n",
       "\n",
       "    .dataframe tbody tr th {\n",
       "        vertical-align: top;\n",
       "    }\n",
       "\n",
       "    .dataframe thead th {\n",
       "        text-align: right;\n",
       "    }\n",
       "</style>\n",
       "<table border=\"1\" class=\"dataframe\">\n",
       "  <thead>\n",
       "    <tr style=\"text-align: right;\">\n",
       "      <th></th>\n",
       "      <th>passenger_count</th>\n",
       "      <th>trip_distance</th>\n",
       "      <th>PULocationID</th>\n",
       "      <th>DOLocationID</th>\n",
       "      <th>extra</th>\n",
       "      <th>trip_dur_min</th>\n",
       "      <th>month</th>\n",
       "      <th>is_weekend</th>\n",
       "      <th>hour_sin</th>\n",
       "      <th>hour_cos</th>\n",
       "      <th>...</th>\n",
       "      <th>Ratecode_1</th>\n",
       "      <th>Ratecode_2</th>\n",
       "      <th>Ratecode_3</th>\n",
       "      <th>Ratecode_4</th>\n",
       "      <th>Ratecode_5</th>\n",
       "      <th>paytype_1</th>\n",
       "      <th>paytype_2</th>\n",
       "      <th>paytype_3</th>\n",
       "      <th>paytype_4</th>\n",
       "      <th>total_amount</th>\n",
       "    </tr>\n",
       "  </thead>\n",
       "  <tbody>\n",
       "    <tr>\n",
       "      <th>0</th>\n",
       "      <td>0.2</td>\n",
       "      <td>0.114138</td>\n",
       "      <td>0.401515</td>\n",
       "      <td>0.613636</td>\n",
       "      <td>0.222222</td>\n",
       "      <td>0.185636</td>\n",
       "      <td>1.0</td>\n",
       "      <td>0</td>\n",
       "      <td>0.146447</td>\n",
       "      <td>0.853553</td>\n",
       "      <td>...</td>\n",
       "      <td>True</td>\n",
       "      <td>False</td>\n",
       "      <td>False</td>\n",
       "      <td>False</td>\n",
       "      <td>False</td>\n",
       "      <td>False</td>\n",
       "      <td>True</td>\n",
       "      <td>False</td>\n",
       "      <td>False</td>\n",
       "      <td>19.90</td>\n",
       "    </tr>\n",
       "    <tr>\n",
       "      <th>1</th>\n",
       "      <td>0.0</td>\n",
       "      <td>0.032410</td>\n",
       "      <td>0.185606</td>\n",
       "      <td>0.178030</td>\n",
       "      <td>0.777778</td>\n",
       "      <td>0.047269</td>\n",
       "      <td>1.0</td>\n",
       "      <td>0</td>\n",
       "      <td>0.146447</td>\n",
       "      <td>0.853553</td>\n",
       "      <td>...</td>\n",
       "      <td>True</td>\n",
       "      <td>False</td>\n",
       "      <td>False</td>\n",
       "      <td>False</td>\n",
       "      <td>False</td>\n",
       "      <td>True</td>\n",
       "      <td>False</td>\n",
       "      <td>False</td>\n",
       "      <td>False</td>\n",
       "      <td>11.80</td>\n",
       "    </tr>\n",
       "    <tr>\n",
       "      <th>2</th>\n",
       "      <td>0.0</td>\n",
       "      <td>0.088774</td>\n",
       "      <td>0.178030</td>\n",
       "      <td>0.640152</td>\n",
       "      <td>0.777778</td>\n",
       "      <td>0.137907</td>\n",
       "      <td>1.0</td>\n",
       "      <td>0</td>\n",
       "      <td>0.146447</td>\n",
       "      <td>0.853553</td>\n",
       "      <td>...</td>\n",
       "      <td>True</td>\n",
       "      <td>False</td>\n",
       "      <td>False</td>\n",
       "      <td>False</td>\n",
       "      <td>False</td>\n",
       "      <td>True</td>\n",
       "      <td>False</td>\n",
       "      <td>False</td>\n",
       "      <td>False</td>\n",
       "      <td>17.70</td>\n",
       "    </tr>\n",
       "    <tr>\n",
       "      <th>3</th>\n",
       "      <td>0.2</td>\n",
       "      <td>0.045561</td>\n",
       "      <td>0.606061</td>\n",
       "      <td>0.867424</td>\n",
       "      <td>0.222222</td>\n",
       "      <td>0.228775</td>\n",
       "      <td>1.0</td>\n",
       "      <td>0</td>\n",
       "      <td>0.146447</td>\n",
       "      <td>0.853553</td>\n",
       "      <td>...</td>\n",
       "      <td>True</td>\n",
       "      <td>False</td>\n",
       "      <td>False</td>\n",
       "      <td>False</td>\n",
       "      <td>False</td>\n",
       "      <td>False</td>\n",
       "      <td>True</td>\n",
       "      <td>False</td>\n",
       "      <td>False</td>\n",
       "      <td>19.90</td>\n",
       "    </tr>\n",
       "    <tr>\n",
       "      <th>4</th>\n",
       "      <td>0.0</td>\n",
       "      <td>0.060122</td>\n",
       "      <td>0.867424</td>\n",
       "      <td>0.537879</td>\n",
       "      <td>0.222222</td>\n",
       "      <td>0.122304</td>\n",
       "      <td>1.0</td>\n",
       "      <td>0</td>\n",
       "      <td>0.146447</td>\n",
       "      <td>0.853553</td>\n",
       "      <td>...</td>\n",
       "      <td>True</td>\n",
       "      <td>False</td>\n",
       "      <td>False</td>\n",
       "      <td>False</td>\n",
       "      <td>False</td>\n",
       "      <td>True</td>\n",
       "      <td>False</td>\n",
       "      <td>False</td>\n",
       "      <td>False</td>\n",
       "      <td>19.62</td>\n",
       "    </tr>\n",
       "  </tbody>\n",
       "</table>\n",
       "<p>5 rows × 22 columns</p>\n",
       "</div>"
      ],
      "text/plain": [
       "   passenger_count  trip_distance  PULocationID  DOLocationID     extra  \\\n",
       "0              0.2       0.114138      0.401515      0.613636  0.222222   \n",
       "1              0.0       0.032410      0.185606      0.178030  0.777778   \n",
       "2              0.0       0.088774      0.178030      0.640152  0.777778   \n",
       "3              0.2       0.045561      0.606061      0.867424  0.222222   \n",
       "4              0.0       0.060122      0.867424      0.537879  0.222222   \n",
       "\n",
       "   trip_dur_min  month  is_weekend  hour_sin  hour_cos  ...  Ratecode_1  \\\n",
       "0      0.185636    1.0           0  0.146447  0.853553  ...        True   \n",
       "1      0.047269    1.0           0  0.146447  0.853553  ...        True   \n",
       "2      0.137907    1.0           0  0.146447  0.853553  ...        True   \n",
       "3      0.228775    1.0           0  0.146447  0.853553  ...        True   \n",
       "4      0.122304    1.0           0  0.146447  0.853553  ...        True   \n",
       "\n",
       "   Ratecode_2  Ratecode_3  Ratecode_4  Ratecode_5  paytype_1  paytype_2  \\\n",
       "0       False       False       False       False      False       True   \n",
       "1       False       False       False       False       True      False   \n",
       "2       False       False       False       False       True      False   \n",
       "3       False       False       False       False      False       True   \n",
       "4       False       False       False       False       True      False   \n",
       "\n",
       "   paytype_3  paytype_4  total_amount  \n",
       "0      False      False         19.90  \n",
       "1      False      False         11.80  \n",
       "2      False      False         17.70  \n",
       "3      False      False         19.90  \n",
       "4      False      False         19.62  \n",
       "\n",
       "[5 rows x 22 columns]"
      ]
     },
     "execution_count": 23,
     "metadata": {},
     "output_type": "execute_result"
    }
   ],
   "source": [
    "parquet_file.read_row_group(34).to_pandas().head()"
   ]
  },
  {
   "cell_type": "code",
   "execution_count": null,
   "id": "b74f874f",
   "metadata": {},
   "outputs": [
    {
     "name": "stdout",
     "output_type": "stream",
     "text": [
      "0.04\n",
      "114.52\n",
      "21.1216851208148\n",
      "15.530146344403235\n"
     ]
    },
    {
     "ename": "",
     "evalue": "",
     "output_type": "error",
     "traceback": [
      "\u001b[1;31mThe Kernel crashed while executing code in the current cell or a previous cell. \n",
      "\u001b[1;31mPlease review the code in the cell(s) to identify a possible cause of the failure. \n",
      "\u001b[1;31mClick <a href='https://aka.ms/vscodeJupyterKernelCrash'>here</a> for more info. \n",
      "\u001b[1;31mView Jupyter <a href='command:jupyter.viewOutput'>log</a> for further details."
     ]
    }
   ],
   "source": [
    "df = pd.read_parquet(\"../data/processed/dataall999.parquet\")  \n",
    "print(df[\"total_amount\"].min())  \n",
    "print(df[\"total_amount\"].max())  \n",
    "print(df[\"total_amount\"].mean())  \n",
    "print(df[\"total_amount\"].std())  "
   ]
  },
  {
   "cell_type": "code",
   "execution_count": null,
   "id": "4571f622",
   "metadata": {},
   "outputs": [],
   "source": []
  }
 ],
 "metadata": {
  "kernelspec": {
   "display_name": "mpi",
   "language": "python",
   "name": "python3"
  },
  "language_info": {
   "codemirror_mode": {
    "name": "ipython",
    "version": 3
   },
   "file_extension": ".py",
   "mimetype": "text/x-python",
   "name": "python",
   "nbconvert_exporter": "python",
   "pygments_lexer": "ipython3",
   "version": "3.13.7"
  }
 },
 "nbformat": 4,
 "nbformat_minor": 5
}

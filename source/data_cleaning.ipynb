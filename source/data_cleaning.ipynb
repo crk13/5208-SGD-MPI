{
 "cells": [
  {
   "cell_type": "code",
   "execution_count": 1,
   "id": "affc856a",
   "metadata": {},
   "outputs": [],
   "source": [
    "import pandas as pd\n",
    "import numpy as np\n",
    "from sklearn.preprocessing import MinMaxScaler\n",
    "from sklearn.model_selection import train_test_split"
   ]
  },
  {
   "cell_type": "code",
   "execution_count": 2,
   "id": "cbc3a61e",
   "metadata": {},
   "outputs": [
    {
     "name": "stdout",
     "output_type": "stream",
     "text": [
      "(6405008, 10)\n"
     ]
    }
   ],
   "source": [
    "df = pd.read_csv('../data/raw/data.csv', usecols=[\n",
    "     \"tpep_pickup_datetime\", \"tpep_dropoff_datetime\", \"passenger_count\", \"trip_distance\", \n",
    "     \"RatecodeID\", \"PULocationID\", \"DOLocationID\", \"payment_type\", \n",
    "     \"extra\", \"total_amount\"])\n",
    "print(df.shape)\n",
    "# df.head()"
   ]
  },
  {
   "cell_type": "code",
   "execution_count": 3,
   "id": "48699239",
   "metadata": {},
   "outputs": [
    {
     "data": {
      "text/plain": [
       "(6159738, 10)"
      ]
     },
     "execution_count": 3,
     "metadata": {},
     "output_type": "execute_result"
    }
   ],
   "source": [
    "#df = df.drop_duplicates()\n",
    "df = df.dropna()\n",
    "df = df[df[\"passenger_count\"] > 0]\n",
    "df = df[df[\"trip_distance\"] > 0]\n",
    "\n",
    "df[\"tpep_pickup_datetime\"] = pd.to_datetime(df[\"tpep_pickup_datetime\"])\n",
    "df[\"tpep_dropoff_datetime\"] = pd.to_datetime(df[\"tpep_dropoff_datetime\"])\n",
    "trip_dur = (df[\"tpep_dropoff_datetime\"] - df[\"tpep_pickup_datetime\"]).dt.total_seconds() / 60\n",
    "df = df[trip_dur > 0]\n",
    "\n",
    "df.shape"
   ]
  },
  {
   "cell_type": "code",
   "execution_count": 4,
   "id": "92829bcd",
   "metadata": {},
   "outputs": [
    {
     "data": {
      "text/plain": [
       "(6159738, 535)"
      ]
     },
     "execution_count": 4,
     "metadata": {},
     "output_type": "execute_result"
    }
   ],
   "source": [
    "#时间\n",
    "df[\"pickup_ts\"] = df[\"tpep_pickup_datetime\"].astype('int64') // 10**9\n",
    "df[\"dropoff_ts\"] = df[\"tpep_dropoff_datetime\"].astype('int64') // 10**9\n",
    "df = df.drop(columns=[\"tpep_pickup_datetime\", \"tpep_dropoff_datetime\"])\n",
    "\n",
    "# 类别onehot\n",
    "cat_cols = ['RatecodeID','payment_type','PULocationID','DOLocationID']\n",
    "# df = pd.get_dummies(df, columns=cat_cols, dummy_na=False)\n",
    "for col in cat_cols:\n",
    "    dummies = pd.get_dummies(df[col], prefix=col, dummy_na=False)\n",
    "    df = pd.concat([df, dummies], axis=1)\n",
    "    df.drop(columns=[col], inplace=True)\n",
    "\n",
    "num_cols = ['passenger_count','trip_distance','extra','pickup_ts','dropoff_ts']\n",
    "for col in num_cols:\n",
    "    col_min = df[col].min()\n",
    "    col_max = df[col].max()\n",
    "    df[col] = (df[col] - col_min) / (col_max - col_min)\n",
    "\n",
    "df.shape\n",
    "# df.head()"
   ]
  },
  {
   "cell_type": "code",
   "execution_count": 6,
   "id": "1840fd8e",
   "metadata": {},
   "outputs": [
    {
     "name": "stdout",
     "output_type": "stream",
     "text": [
      "Saved to ../data/processed/data.parquet\n"
     ]
    }
   ],
   "source": [
    "import os\n",
    "\n",
    "os.makedirs(\"../data/processed\", exist_ok=True)\n",
    "\n",
    "# 保存为 parquet\n",
    "df.to_parquet(\"../data/processed/data.parquet\", engine=\"pyarrow\", index=False)\n",
    "print(\"Saved to ../data/processed/data.parquet\")\n",
    "\n"
   ]
  },
  {
   "cell_type": "code",
   "execution_count": null,
   "id": "5fbb39da",
   "metadata": {},
   "outputs": [
    {
     "ename": "",
     "evalue": "",
     "output_type": "error",
     "traceback": [
      "\u001b[1;31mThe Kernel crashed while executing code in the current cell or a previous cell. \n",
      "\u001b[1;31mPlease review the code in the cell(s) to identify a possible cause of the failure. \n",
      "\u001b[1;31mClick <a href='https://aka.ms/vscodeJupyterKernelCrash'>here</a> for more info. \n",
      "\u001b[1;31mView Jupyter <a href='command:jupyter.viewOutput'>log</a> for further details."
     ]
    }
   ],
   "source": [
    "# # 时间转 Unix 秒\n",
    "# df[\"pickup_ts\"] = df[\"tpep_pickup_datetime\"].astype('int64') // 10**9\n",
    "# df[\"dropoff_ts\"] = df[\"tpep_dropoff_datetime\"].astype('int64') // 10**9\n",
    "# df = df.drop(columns=[\"tpep_pickup_datetime\", \"tpep_dropoff_datetime\"])\n",
    "\n",
    "# # 类别onehot\n",
    "# cat_cols = ['RatecodeID','payment_type','PULocationID','DOLocationID']\n",
    "# df = pd.get_dummies(df, columns=cat_cols, dummy_na=False)\n",
    "\n",
    "# # 数值归一化\n",
    "# num_cols = ['passenger_count','trip_distance','extra','pickup_ts','dropoff_ts']\n",
    "# scaler = MinMaxScaler()\n",
    "# df[num_cols] = scaler.fit_transform(df[num_cols])\n",
    "\n",
    "# df.head()"
   ]
  }
 ],
 "metadata": {
  "kernelspec": {
   "display_name": "mpi",
   "language": "python",
   "name": "python3"
  },
  "language_info": {
   "codemirror_mode": {
    "name": "ipython",
    "version": 3
   },
   "file_extension": ".py",
   "mimetype": "text/x-python",
   "name": "python",
   "nbconvert_exporter": "python",
   "pygments_lexer": "ipython3",
   "version": "3.13.7"
  }
 },
 "nbformat": 4,
 "nbformat_minor": 5
}
